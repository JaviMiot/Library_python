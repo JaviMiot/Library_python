{
 "cells": [
  {
   "cell_type": "code",
   "execution_count": null,
   "metadata": {},
   "outputs": [
    {
     "ename": "",
     "evalue": "",
     "output_type": "error",
     "traceback": [
      "\u001b[1;31mRunning cells with 'Python 3.9.12 ('.env': venv)' requires ipykernel package.\n",
      "Run the following command to install 'ipykernel' into the Python environment. \n",
      "Command: '/home/javi/01_RepoLinux/32_learn_library_python/.env/bin/python -m pip install ipykernel -U --force-reinstall'"
     ]
    }
   ],
   "source": [
    "from pathlib import Path\n",
    "patch = Path('.')\n",
    "\n",
    "get_paths = [p for p in patch.iterdir() if p.is_dir()]\n",
    "print(get_paths)\n",
    "\n",
    "p = Path('./pytest')\n",
    "q = p/'basic'/'basic.py'\n",
    "print(q)\n",
    "print(q.resolve())\n",
    "\n",
    "with q.open() as file:\n",
    "    for line in file.readlines():\n",
    "        print(line)\n"
   ]
  },
  {
   "cell_type": "code",
   "execution_count": 22,
   "metadata": {},
   "outputs": [
    {
     "ename": "NotImplementedError",
     "evalue": "cannot instantiate 'WindowsPath' on your system",
     "output_type": "error",
     "traceback": [
      "\u001b[0;31m---------------------------------------------------------------------------\u001b[0m",
      "\u001b[0;31mNotImplementedError\u001b[0m                       Traceback (most recent call last)",
      "\u001b[1;32m/home/snuc/Documents/myrepo/04_Library_python/pathlib.ipynb Cell 2'\u001b[0m in \u001b[0;36m<cell line: 3>\u001b[0;34m()\u001b[0m\n\u001b[1;32m      <a href='vscode-notebook-cell:/home/snuc/Documents/myrepo/04_Library_python/pathlib.ipynb#ch0000001?line=0'>1</a>\u001b[0m \u001b[39mfrom\u001b[39;00m \u001b[39mpathlib\u001b[39;00m \u001b[39mimport\u001b[39;00m WindowsPath\n\u001b[0;32m----> <a href='vscode-notebook-cell:/home/snuc/Documents/myrepo/04_Library_python/pathlib.ipynb#ch0000001?line=2'>3</a>\u001b[0m WindowsPath(\u001b[39m'\u001b[39;49m\u001b[39m.\u001b[39;49m\u001b[39m'\u001b[39;49m)\n",
      "File \u001b[0;32m/usr/lib/python3.9/pathlib.py:1074\u001b[0m, in \u001b[0;36mPath.__new__\u001b[0;34m(cls, *args, **kwargs)\u001b[0m\n\u001b[1;32m   <a href='file:///usr/lib/python3.9/pathlib.py?line=1071'>1072</a>\u001b[0m \u001b[39mself\u001b[39m \u001b[39m=\u001b[39m \u001b[39mcls\u001b[39m\u001b[39m.\u001b[39m_from_parts(args, init\u001b[39m=\u001b[39m\u001b[39mFalse\u001b[39;00m)\n\u001b[1;32m   <a href='file:///usr/lib/python3.9/pathlib.py?line=1072'>1073</a>\u001b[0m \u001b[39mif\u001b[39;00m \u001b[39mnot\u001b[39;00m \u001b[39mself\u001b[39m\u001b[39m.\u001b[39m_flavour\u001b[39m.\u001b[39mis_supported:\n\u001b[0;32m-> <a href='file:///usr/lib/python3.9/pathlib.py?line=1073'>1074</a>\u001b[0m     \u001b[39mraise\u001b[39;00m \u001b[39mNotImplementedError\u001b[39;00m(\u001b[39m\"\u001b[39m\u001b[39mcannot instantiate \u001b[39m\u001b[39m%r\u001b[39;00m\u001b[39m on your system\u001b[39m\u001b[39m\"\u001b[39m\n\u001b[1;32m   <a href='file:///usr/lib/python3.9/pathlib.py?line=1074'>1075</a>\u001b[0m                               \u001b[39m%\u001b[39m (\u001b[39mcls\u001b[39m\u001b[39m.\u001b[39m\u001b[39m__name__\u001b[39m,))\n\u001b[1;32m   <a href='file:///usr/lib/python3.9/pathlib.py?line=1075'>1076</a>\u001b[0m \u001b[39mself\u001b[39m\u001b[39m.\u001b[39m_init()\n\u001b[1;32m   <a href='file:///usr/lib/python3.9/pathlib.py?line=1076'>1077</a>\u001b[0m \u001b[39mreturn\u001b[39;00m \u001b[39mself\u001b[39m\n",
      "\u001b[0;31mNotImplementedError\u001b[0m: cannot instantiate 'WindowsPath' on your system"
     ]
    }
   ],
   "source": [
    "from pathlib import WindowsPath\n",
    "\n",
    "WindowsPath('.')"
   ]
  },
  {
   "cell_type": "code",
   "execution_count": 40,
   "metadata": {},
   "outputs": [
    {
     "name": "stdout",
     "output_type": "stream",
     "text": [
      "/home/snuc/Documents/myrepo/04_Library_python\n",
      "/home/snuc\n",
      "/basic\n"
     ]
    }
   ],
   "source": [
    "from pathlib import Path, PurePath\n",
    "\n",
    "print(Path.cwd())\n",
    "print(Path.home())\n",
    "\n",
    "p = PurePath('.','/basic')\n",
    "print(p)\n",
    "\n",
    "\n"
   ]
  }
 ],
 "metadata": {
  "interpreter": {
   "hash": "938f181b07b89c0d146c99d25bf45bdd32ae32a25376580b21fd201982e5ab49"
  },
  "kernelspec": {
   "display_name": "Python 3.9.12 ('.env': venv)",
   "language": "python",
   "name": "python3"
  },
  "language_info": {
   "codemirror_mode": {
    "name": "ipython",
    "version": 3
   },
   "file_extension": ".py",
   "mimetype": "text/x-python",
   "name": "python",
   "nbconvert_exporter": "python",
   "pygments_lexer": "ipython3",
   "version": "3.9.13"
  },
  "orig_nbformat": 4
 },
 "nbformat": 4,
 "nbformat_minor": 2
}
