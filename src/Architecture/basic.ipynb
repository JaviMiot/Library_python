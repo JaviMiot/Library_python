{
 "cells": [
  {
   "cell_type": "markdown",
   "metadata": {},
   "source": [
    "### Value Objects"
   ]
  },
  {
   "cell_type": "code",
   "execution_count": 4,
   "metadata": {},
   "outputs": [],
   "source": [
    "from dataclasses import dataclass\n",
    "from typing import NamedTuple\n",
    "from collections import namedtuple\n",
    "\n",
    "@dataclass(frozen=True)\n",
    "class Name:\n",
    "    first_name: str\n",
    "    surname: str\n",
    "\n",
    "class Money(NamedTuple):\n",
    "    currency: str\n",
    "    value: int\n",
    "\n",
    "Line = namedtuple('Line', ['sku', 'qty'])\n",
    "\n",
    "def test_equality():\n",
    "    assert Money('gbp', 10) == Money('gbp', 10)\n",
    "    assert Name('Harry', 'Percival') != Name('Bob', 'Gregory')\n",
    "    assert Line('RED-CHAIR', 5) == Line('RED-CHAIR', 5)\n",
    "    \n",
    "test_equality()"
   ]
  },
  {
   "cell_type": "code",
   "execution_count": 10,
   "metadata": {},
   "outputs": [],
   "source": [
    "import pytest\n",
    "\n",
    "fiver = Money('gbp', 5)\n",
    "tenner = Money('gbp', 10)\n",
    "\n",
    "def can_add_money_values_for_the_same_currency():\n",
    "    assert fiver + fiver == tenner\n",
    "\n",
    "def can_subtract_money_values():\n",
    "    assert tenner - fiver == fiver\n",
    "\n",
    "def adding_different_currencies_fails():\n",
    "    with pytest.raises(ValueError):\n",
    "        Money('usd', 10) + Money('gbp', 10)\n",
    "\n",
    "def can_multiply_money_by_a_number():\n",
    "    assert fiver * 5 == Money('gbp', 25)\n",
    "\n",
    "def multiplying_two_money_values_is_an_error():\n",
    "    with pytest.raises(TypeError):\n",
    "        tenner * fiver\n"
   ]
  }
 ],
 "metadata": {
  "interpreter": {
   "hash": "938f181b07b89c0d146c99d25bf45bdd32ae32a25376580b21fd201982e5ab49"
  },
  "kernelspec": {
   "display_name": "Python 3.9.13 ('.env': venv)",
   "language": "python",
   "name": "python3"
  },
  "language_info": {
   "codemirror_mode": {
    "name": "ipython",
    "version": 3
   },
   "file_extension": ".py",
   "mimetype": "text/x-python",
   "name": "python",
   "nbconvert_exporter": "python",
   "pygments_lexer": "ipython3",
   "version": "3.9.13"
  },
  "orig_nbformat": 4
 },
 "nbformat": 4,
 "nbformat_minor": 2
}
