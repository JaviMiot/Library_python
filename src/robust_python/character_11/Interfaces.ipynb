{
 "cells": [
  {
   "cell_type": "markdown",
   "metadata": {},
   "source": [
    "## We are to implement the next flow\n",
    "\n",
    "<div style=\"display:flex; justify-content:center\">\n",
    "<img src=\"https://learning.oreilly.com/api/v2/epubs/urn:orm:book:9781098100650/files/assets/ropy_1101.png\"\n",
    "     alt=\"Markdown Monster icon\"\n",
    "     style=\"width:500px\" />\n",
    "</div>"
   ]
  },
  {
   "cell_type": "code",
   "execution_count": 1,
   "metadata": {},
   "outputs": [],
   "source": [
    "from enum import IntEnum\n",
    "\n",
    "class ImperialMeasure(IntEnum):\n",
    "    CUP = 1"
   ]
  },
  {
   "cell_type": "code",
   "execution_count": 2,
   "metadata": {},
   "outputs": [],
   "source": [
    "from dataclasses import dataclass\n",
    "from enum import auto, Enum\n",
    "\n",
    "@dataclass(frozen=True)\n",
    "class Ingredient:\n",
    "    name: str\n",
    "    brand: str\n",
    "    amount: float = 1\n",
    "    units: ImperialMeasure = ImperialMeasure.CUP\n",
    "\n",
    "@dataclass\n",
    "class Recipe:\n",
    "    name: str\n",
    "    ingredients: list[Ingredient]\n",
    "    servings: int"
   ]
  },
  {
   "cell_type": "code",
   "execution_count": null,
   "metadata": {},
   "outputs": [],
   "source": [
    "import decimal\n",
    "from dataclasses import dataclass\n",
    "from typing import Iterable\n",
    "\n",
    "from grocery.geospatial import Coordinates\n",
    "from grocery.measure import ImperialMeasure\n",
    "\n",
    "@dataclass(frozen=True)\n",
    "class Store:\n",
    "    coordinates: Coordinates\n",
    "    name: str\n",
    "\n",
    "\n",
    "@dataclass(frozen=True)\n",
    "class Item:\n",
    "    name: str\n",
    "    brand: str\n",
    "    measure: ImperialMeasure\n",
    "    price_in_cents: decimal.Decimal\n",
    "    amount: float\n",
    "\n",
    "Inventory = dict[Store, List[Item]]\n",
    "def get_grocery_inventory() -> Inventory:\n",
    "    # reach out to APIs and populate the dictionary\n",
    "    # ... snip ...\n",
    "    pass\n",
    "\n",
    "def reserve_items(store: Store, items: Iterable[Item]) -> bool:\n",
    "    # ... snip ...\n",
    "    pass\n",
    "\n",
    "def unreserve_items(store: Store, items: Iterable[Item]) -> bool:\n",
    "    # ... snip ...\n",
    "    pass\n",
    "\n",
    "def order_items(store: Store, item: items: Iterable[Item]) -> bool:\n",
    "    # ... snip ...\n",
    "    pass"
   ]
  },
  {
   "cell_type": "code",
   "execution_count": null,
   "metadata": {},
   "outputs": [],
   "source": [
    "from typing import Iterable, Optional\n",
    "from copy import deepcopy\n",
    "class Order:\n",
    "    ''' An Order class that represents a list of ingredients '''\n",
    "    def __init__(self, recipes: Iterable[Recipe]):\n",
    "        self.__ingredients: set[Ingredient] = set()\n",
    "        for recipe in recipes:\n",
    "            for ingredient in recipe.ingredients:\n",
    "                self.add_ingredient(ingredient)\n",
    "\n",
    "    def get_ingredients(self) -> list[Ingredient]:\n",
    "        ''' Return a alphabetically sorted list of ingredients '''\n",
    "        # return a copy so that users won't inadvertently mess with\n",
    "        # our internal data\n",
    "        return sorted(deepcopy(self.__ingredients),\n",
    "                        key=lambda ing: ing.name)\n",
    "\n",
    "       def _get_matching_ingredient(self,\n",
    "                                 ingredient: Ingredient) -> Optional[Ingredient]:\n",
    "        try:\n",
    "            return next(ing for ing in self.__ingredients if\n",
    "                        ((ing.name, ing.brand) ==\n",
    "                         (ingredient.name, ingredient.brand)))\n",
    "        except StopIteration:\n",
    "            return None\n",
    "\n",
    "    def add_ingredient(self, ingredient: Ingredient):\n",
    "        ''' adds the ingredient if it's not already added,\n",
    "            or increases the amount if it has\n",
    "        '''\n",
    "        target_ingredient = self._get_matching_ingredient(ingredient)\n",
    "        if target_ingredient is None:\n",
    "            # ingredient for the first time - add it\n",
    "            self.__ingredients.add(ingredient)\n",
    "        else:\n",
    "            # add ingredient to existing set"
   ]
  }
 ],
 "metadata": {
  "kernelspec": {
   "display_name": "Python 3.10.5 ('.venv': venv)",
   "language": "python",
   "name": "python3"
  },
  "language_info": {
   "codemirror_mode": {
    "name": "ipython",
    "version": 3
   },
   "file_extension": ".py",
   "mimetype": "text/x-python",
   "name": "python",
   "nbconvert_exporter": "python",
   "pygments_lexer": "ipython3",
   "version": "3.10.5"
  },
  "orig_nbformat": 4,
  "vscode": {
   "interpreter": {
    "hash": "ec163951bbcfeb27b8618359a8957c5b3356ae594ff40e81f3ac3b5b7de30bc2"
   }
  }
 },
 "nbformat": 4,
 "nbformat_minor": 2
}
