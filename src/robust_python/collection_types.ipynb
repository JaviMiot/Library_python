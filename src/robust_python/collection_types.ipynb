{
 "cells": [
  {
   "cell_type": "markdown",
   "metadata": {},
   "source": [
    "## Homogeneous Versus Heterogeneous Collections\n",
    "\n",
    "To check typing in this file pls, run the command:\n",
    "`nbqa mypy src/types/collection_types.ipynb`"
   ]
  },
  {
   "cell_type": "code",
   "execution_count": 1,
   "metadata": {},
   "outputs": [
    {
     "name": "stdout",
     "output_type": "stream",
     "text": [
      "[(1, Recipe(id=1, ingredients=['eggs', 'milk'], name='Scrambled eggs')), (1, Recipe(id=2, ingredients=['chicken', 'butter'], name='Chicken nuggets')), (1, Recipe(id=3, ingredients=['chicken', 'butter', 'salt'], name='Chicken nuggets'))]\n"
     ]
    }
   ],
   "source": [
    "from typing import Union, Optional\n",
    "from dataclasses import dataclass\n",
    "\n",
    "@dataclass\n",
    "class Recipe:\n",
    "    id:Union[int, str]\n",
    "    ingredients:list[str]\n",
    "    name:str\n",
    "\n",
    "RecipeWithServings = tuple[int,Recipe]\n",
    "\n",
    "RecipeList = list[RecipeWithServings]\n",
    "\n",
    "recipe_list: RecipeList\n",
    "\n",
    "recipe1 = Recipe(id=1, ingredients=['eggs', 'milk'], name='Scrambled eggs')\n",
    "recipe2 = Recipe(id=2, ingredients=['chicken', 'butter'], name='Chicken nuggets')\n",
    "recipe3 = Recipe(id=3, ingredients=['chicken', 'butter', 'salt'], name='Chicken nuggets')\n",
    "\n",
    "recipeService1:RecipeWithServings = (1, recipe1)\n",
    "recipeService2:RecipeWithServings = (1, recipe2)\n",
    "recipeService3:RecipeWithServings = (1, recipe3)\n",
    "\n",
    "recipe_list = [recipeService1, recipeService2, recipeService3]\n",
    "\n",
    "print(recipe_list)\n",
    "\n"
   ]
  },
  {
   "cell_type": "code",
   "execution_count": 3,
   "metadata": {},
   "outputs": [
    {
     "name": "stdout",
     "output_type": "stream",
     "text": [
      "[{'services': 1, 'recipe': Recipe(id=1, ingredients=['eggs', 'milk'], name='Scrambled eggs')}, {'services': 1, 'recipe': Recipe(id=2, ingredients=['chicken', 'butter'], name='Chicken nuggets')}, {'services': 1, 'recipe': Recipe(id=3, ingredients=['chicken', 'butter', 'salt'], name='Chicken nuggets')}]\n",
      "[{'services': 2, 'recipe': Recipe(id=1, ingredients=['eggs', 'milk'], name='Scrambled eggs')}, {'services': 1, 'recipe': Recipe(id=2, ingredients=['chicken', 'butter'], name='Chicken nuggets')}, {'services': 1, 'recipe': Recipe(id=3, ingredients=['chicken', 'butter', 'salt'], name='Chicken nuggets')}]\n"
     ]
    }
   ],
   "source": [
    "from typing import Union, Optional\n",
    "\n",
    "RecipeWithServings2 = dict[str,Union[int, Recipe]]\n",
    "\n",
    "RecipeList2 = list[RecipeWithServings2]\n",
    "\n",
    "recipe_list2: RecipeList2\n",
    "\n",
    "recipe1 = Recipe(id=1, ingredients=['eggs', 'milk'], name='Scrambled eggs')\n",
    "recipe2 = Recipe(id=2, ingredients=['chicken', 'butter'], name='Chicken nuggets')\n",
    "recipe3 = Recipe(id=3, ingredients=['chicken', 'butter', 'salt'], name='Chicken nuggets')\n",
    "\n",
    "recipeService11:RecipeWithServings2 = {'services':1, 'recipe':recipe1}\n",
    "recipeService22:RecipeWithServings2 = {'services':1, 'recipe':recipe2}\n",
    "recipeService33:RecipeWithServings2 = {'services':1, 'recipe':recipe3}\n",
    "\n",
    "recipe_list2 = [recipeService11, recipeService22, recipeService33]\n",
    "\n",
    "print(recipe_list2)\n",
    "\n",
    "recipe_list2[0]['services'] = 2\n",
    "\n",
    "print(recipe_list2)\n"
   ]
  },
  {
   "cell_type": "code",
   "execution_count": 6,
   "metadata": {},
   "outputs": [
    {
     "name": "stdout",
     "output_type": "stream",
     "text": [
      "[{'services': 1, 'recipe': Recipe(id=1, ingredients=['eggs', 'milk'], name='Scrambled eggs'), 'error': 'error'}, {'services': 1, 'recipe': Recipe(id=2, ingredients=['chicken', 'butter'], name='Chicken nuggets'), 'error': 'error'}, {'services': 1, 'recipe': Recipe(id=3, ingredients=['chicken', 'butter', 'salt'], name='Chicken nuggets'), 'error': 'error'}]\n",
      "[{'services': 2, 'recipe': Recipe(id=1, ingredients=['eggs', 'milk'], name='Scrambled eggs'), 'error': 'error'}, {'services': 1, 'recipe': Recipe(id=2, ingredients=['chicken', 'butter'], name='Chicken nuggets'), 'error': 'error'}, {'services': 1, 'recipe': Recipe(id=3, ingredients=['chicken', 'butter', 'salt'], name='Chicken nuggets'), 'error': 'error'}]\n"
     ]
    }
   ],
   "source": [
    "from typing import Union, TypedDict\n",
    "\n",
    "class RecipeWithServings3 (TypedDict):\n",
    "    services:Union[int, str]\n",
    "    recipe:Recipe\n",
    "    error:str\n",
    "\n",
    "RecipeList3 = list[RecipeWithServings3]\n",
    "\n",
    "recipe_list3: RecipeList3\n",
    "\n",
    "recipe1 = Recipe(id=1, ingredients=['eggs', 'milk'], name='Scrambled eggs')\n",
    "recipe2 = Recipe(id=2, ingredients=['chicken', 'butter'], name='Chicken nuggets')\n",
    "recipe3 = Recipe(id=3, ingredients=['chicken', 'butter', 'salt'], name='Chicken nuggets')\n",
    "\n",
    "recipeService1d:RecipeWithServings3 = {'services':1, 'recipe':recipe1, 'error':'error'}\n",
    "recipeService2d:RecipeWithServings3 = {'services':1, 'recipe':recipe2, 'error':'error'}\n",
    "recipeService3d:RecipeWithServings3 = {'services':1, 'recipe':recipe3, 'error':'error'}\n",
    "\n",
    "recipe_list3 = [recipeService1d, recipeService2d, recipeService3d]\n",
    "\n",
    "print(recipe_list3)\n",
    "\n",
    "recipe_list3[0]['services'] = 2\n",
    "\n",
    "print(recipe_list3)\n"
   ]
  },
  {
   "cell_type": "markdown",
   "metadata": {},
   "source": [
    "## Generics in Python"
   ]
  },
  {
   "cell_type": "code",
   "execution_count": 8,
   "metadata": {},
   "outputs": [],
   "source": [
    "from typing import TypeVar\n",
    "\n",
    "T = TypeVar('T')\n",
    "\n",
    "def reverse(coll: list[T]) -> list[T]:\n",
    "    return coll[::-1]"
   ]
  },
  {
   "cell_type": "code",
   "execution_count": 2,
   "metadata": {},
   "outputs": [],
   "source": [
    "from collections import defaultdict\n",
    "from typing import Generic, TypeVar\n",
    "\n",
    "Node = TypeVar(\"Node\")\n",
    "Edge = TypeVar(\"Edge\")\n",
    "\n",
    "# directed graph\n",
    "class Graph(Generic[Node, Edge]):\n",
    "    def __init__(self):\n",
    "        self.edges: dict[Node, list[Edge]] = defaultdict(list)\n",
    "\n",
    "    def add_relation(self, node: Node, to: Edge):\n",
    "        self.edges[node].append(to)\n",
    "\n",
    "    def get_relations(self, node: Node) -> list[Edge]:\n",
    "        return self.edges[node]"
   ]
  },
  {
   "cell_type": "code",
   "execution_count": 6,
   "metadata": {},
   "outputs": [],
   "source": [
    "from typing import TypeVar, Union\n",
    "\n",
    "ResponseT = TypeVar(\"ResponseT\")\n",
    "APIError = dict[str,str]\n",
    "NutritionInfo = int\n",
    "Ingredient= dict[str, list[str]]\n",
    "Restaurant = str\n",
    "APIResponse = Union[ResponseT, APIError]\n",
    "\n",
    "def get_nutrition_info(recipe: str) -> APIResponse[NutritionInfo]:\n",
    "    pass\n",
    "\n",
    "def get_ingredients(recipe: str) -> APIResponse[list[Ingredient]]:\n",
    "    pass\n",
    "\n",
    "def get_restaurants_serving(recipe: str) -> APIResponse[list[Restaurant]]:\n",
    "    pass"
   ]
  },
  {
   "cell_type": "markdown",
   "metadata": {},
   "source": [
    "### Custom a dictionary\n",
    "this dictionary show ingredients in different names."
   ]
  },
  {
   "cell_type": "code",
   "execution_count": 31,
   "metadata": {},
   "outputs": [
    {
     "name": "stdout",
     "output_type": "stream",
     "text": [
      "{'name': 'tortuga', 'alias': ['turtle', 'tortugin']}\n"
     ]
    }
   ],
   "source": [
    "class NutritionalInformation(dict):\n",
    "    def __getitem__(self, key):\n",
    "        try:\n",
    "            return super().__getitem__(key)\n",
    "        except KeyError:\n",
    "            pass\n",
    "        for alias in self.get_aliases(key):\n",
    "            try:\n",
    "                return super().__getitem__(alias)\n",
    "            except KeyError:\n",
    "                pass\n",
    "        raise KeyError(f\"Could not find {key} or any of its aliases\")\n",
    "\n",
    "    def get_aliases(self,key):\n",
    "        pass\n",
    "\n",
    "nutrition = NutritionalInformation()\n",
    "nutrition[\"arugula\"] = {'name':'tortuga', 'alias': ['turtle', 'tortugin']}\n",
    "print(nutrition[\"arugula\"])\n",
    "##print(nutrition[\"turtle\"])\n"
   ]
  },
  {
   "cell_type": "code",
   "execution_count": 4,
   "metadata": {},
   "outputs": [],
   "source": [
    "from collections import UserDict\n",
    "\n",
    "class NutritionalInformation(UserDict):\n",
    "    def __getitem__(self, key):\n",
    "        try:\n",
    "            return self.data[key]\n",
    "        except KeyError:\n",
    "            pass\n",
    "        for alias in get_aliases(key):\n",
    "            try:\n",
    "                return self.data[alias]\n",
    "            except KeyError:\n",
    "                pass\n",
    "        raise KeyError(f\"Could not find {key} or any of its aliases\")"
   ]
  },
  {
   "cell_type": "markdown",
   "metadata": {},
   "source": [
    "## As Easy as ABC\n",
    "[more info](https://docs.python.org/3/library/collections.abc.html#module-collections.abc)"
   ]
  },
  {
   "cell_type": "code",
   "execution_count": 8,
   "metadata": {},
   "outputs": [
    {
     "name": "stdout",
     "output_type": "stream",
     "text": [
      "eggplant\n",
      "pepper\n",
      "arugula\n",
      "3\n",
      "False\n"
     ]
    }
   ],
   "source": [
    "\"\"\"In this case we have a class that this a subclass of the abc.set\n",
    "\"\"\"\n",
    "\n",
    "import collections\n",
    "\n",
    "class AliasedIngredients(collections.abc.Set):\n",
    "    def __init__(self, ingredients: set[str]):\n",
    "        self.ingredients = ingredients\n",
    "\n",
    "    def __contains__(self, value: str):\n",
    "        return value in self.ingredients\n",
    "\n",
    "    def __iter__(self):\n",
    "        return iter(self.ingredients)\n",
    "\n",
    "    def __len__(self):\n",
    "        return len(self.ingredients)\n",
    "\n",
    "ingredients = AliasedIngredients({'arugula', 'eggplant', 'pepper'})\n",
    "\n",
    "for ingredient in ingredients:\n",
    "    print(ingredient)\n",
    "\n",
    "print(len(ingredients))\n",
    "list(ingredients | AliasedIngredients({'garlic'}))\n",
    "print('rocket' in ingredients)"
   ]
  }
 ],
 "metadata": {
  "kernelspec": {
   "display_name": "Python 3.10.5 ('.venv': venv)",
   "language": "python",
   "name": "python3"
  },
  "language_info": {
   "codemirror_mode": {
    "name": "ipython",
    "version": 3
   },
   "file_extension": ".py",
   "mimetype": "text/x-python",
   "name": "python",
   "nbconvert_exporter": "python",
   "pygments_lexer": "ipython3",
   "version": "3.10.5"
  },
  "orig_nbformat": 4,
  "vscode": {
   "interpreter": {
    "hash": "ec163951bbcfeb27b8618359a8957c5b3356ae594ff40e81f3ac3b5b7de30bc2"
   }
  }
 },
 "nbformat": 4,
 "nbformat_minor": 2
}
