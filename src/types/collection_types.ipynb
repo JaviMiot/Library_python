{
 "cells": [
  {
   "cell_type": "markdown",
   "metadata": {},
   "source": [
    "## Homogeneous Versus Heterogeneous Collections"
   ]
  },
  {
   "cell_type": "code",
   "execution_count": 6,
   "metadata": {},
   "outputs": [
    {
     "name": "stdout",
     "output_type": "stream",
     "text": [
      "[(1, Recipe(id=1, ingredients=['eggs', 'milk'], name='Scrambled eggs')), (1, Recipe(id=2, ingredients=['chicken', 'butter'], name='Chicken nuggets')), (1, Recipe(id=3, ingredients=['chicken', 'butter', 'salt'], name='Chicken nuggets'))]\n"
     ]
    }
   ],
   "source": [
    "from typing import Union, Optional\n",
    "from dataclasses import dataclass\n",
    "\n",
    "@dataclass\n",
    "class Recipe:\n",
    "    id:Union[int, str]\n",
    "    ingredients:list[str]\n",
    "    name:str\n",
    "\n",
    "RecipeWithServings = tuple[int,Recipe]\n",
    "\n",
    "RecipeList = list[RecipeWithServings]\n",
    "\n",
    "recipe_list: RecipeList\n",
    "\n",
    "recipe1 = Recipe(id=1, ingredients=['eggs', 'milk'], name='Scrambled eggs')\n",
    "recipe2 = Recipe(id=2, ingredients=['chicken', 'butter'], name='Chicken nuggets')\n",
    "recipe3 = Recipe(id=3, ingredients=['chicken', 'butter', 'salt'], name='Chicken nuggets')\n",
    "\n",
    "recipeService1:RecipeWithServings = (1, recipe1)\n",
    "recipeService2:RecipeWithServings = (1, recipe2)\n",
    "recipeService3:RecipeWithServings = (1, recipe3)\n",
    "\n",
    "recipe_list = [recipeService1, recipeService2, recipeService3]\n",
    "\n",
    "print(recipe_list)\n",
    "\n"
   ]
  },
  {
   "cell_type": "code",
   "execution_count": 5,
   "metadata": {},
   "outputs": [
    {
     "name": "stdout",
     "output_type": "stream",
     "text": [
      "[{'services': 1, 'recipe': Recipe(id=1, ingredients=['eggs', 'milk'], name='Scrambled eggs')}, {'services': 1, 'recipe': Recipe(id=2, ingredients=['chicken', 'butter'], name='Chicken nuggets')}, {'services': 1, 'recipe': Recipe(id=3, ingredients=['chicken', 'butter', 'salt'], name='Chicken nuggets')}]\n",
      "[{'services': 2, 'recipe': Recipe(id=1, ingredients=['eggs', 'milk'], name='Scrambled eggs')}, {'services': 1, 'recipe': Recipe(id=2, ingredients=['chicken', 'butter'], name='Chicken nuggets')}, {'services': 1, 'recipe': Recipe(id=3, ingredients=['chicken', 'butter', 'salt'], name='Chicken nuggets')}]\n"
     ]
    }
   ],
   "source": [
    "from typing import Union, Optional\n",
    "\n",
    "RecipeWithServings2 = dict[str,Union[int, Recipe]]\n",
    "\n",
    "RecipeList2 = list[RecipeWithServings2]\n",
    "\n",
    "recipe_list2: RecipeList2\n",
    "\n",
    "recipe1 = Recipe(id=1, ingredients=['eggs', 'milk'], name='Scrambled eggs')\n",
    "recipe2 = Recipe(id=2, ingredients=['chicken', 'butter'], name='Chicken nuggets')\n",
    "recipe3 = Recipe(id=3, ingredients=['chicken', 'butter', 'salt'], name='Chicken nuggets')\n",
    "\n",
    "recipeService11:RecipeWithServings2 = {'services':1, 'recipe':recipe1}\n",
    "recipeService22:RecipeWithServings2 = {'services':1, 'recipe':recipe2}\n",
    "recipeService33:RecipeWithServings2 = {'services':1, 'recipe':recipe3}\n",
    "\n",
    "recipe_list2 = [recipeService11, recipeService22, recipeService33]\n",
    "\n",
    "print(recipe_list2)\n",
    "\n",
    "recipe_list2[0]['services'] = 2\n",
    "\n",
    "print(recipe_list2)\n"
   ]
  },
  {
   "cell_type": "code",
   "execution_count": 11,
   "metadata": {},
   "outputs": [
    {
     "name": "stdout",
     "output_type": "stream",
     "text": [
      "[{'services': 1, 'recipe': Recipe(id=1, ingredients=['eggs', 'milk'], name='Scrambled eggs')}, {'services': 1, 'recipe': Recipe(id=2, ingredients=['chicken', 'butter'], name='Chicken nuggets')}, {'services': 1, 'recipe': Recipe(id=3, ingredients=['chicken', 'butter', 'salt'], name='Chicken nuggets')}]\n",
      "[{'services': 2, 'recipe': Recipe(id=1, ingredients=['eggs', 'milk'], name='Scrambled eggs')}, {'services': 1, 'recipe': Recipe(id=2, ingredients=['chicken', 'butter'], name='Chicken nuggets')}, {'services': 1, 'recipe': Recipe(id=3, ingredients=['chicken', 'butter', 'salt'], name='Chicken nuggets')}]\n"
     ]
    }
   ],
   "source": [
    "from typing import Union, TypedDict\n",
    "\n",
    "class RecipeWithServings3 (TypedDict):\n",
    "    services:Union[int, str]\n",
    "    recipe:Recipe\n",
    "    error:str\n",
    "\n",
    "RecipeList3 = list[RecipeWithServings3]\n",
    "\n",
    "recipe_list3: RecipeList3\n",
    "\n",
    "recipe1 = Recipe(id=1, ingredients=['eggs', 'milk'], name='Scrambled eggs')\n",
    "recipe2 = Recipe(id=2, ingredients=['chicken', 'butter'], name='Chicken nuggets')\n",
    "recipe3 = Recipe(id=3, ingredients=['chicken', 'butter', 'salt'], name='Chicken nuggets')\n",
    "\n",
    "recipeService1d:RecipeWithServings3 = {'services':1, 'recipe':recipe1, 'error':'error'}\n",
    "recipeService2d:RecipeWithServings3 = {'services':1, 'recipe':recipe2, 'error':'error'}\n",
    "recipeService3d:RecipeWithServings3 = {'services':1, 'recipe':recipe3, 'error':'error'}\n",
    "\n",
    "recipe_list3 = [recipeService1d, recipeService2d, recipeService3d]\n",
    "\n",
    "print(recipe_list3)\n",
    "\n",
    "recipe_list3[0]['services'] = 2\n",
    "\n",
    "print(recipe_list3)\n"
   ]
  }
 ],
 "metadata": {
  "interpreter": {
   "hash": "938f181b07b89c0d146c99d25bf45bdd32ae32a25376580b21fd201982e5ab49"
  },
  "kernelspec": {
   "display_name": "Python 3.9.12 ('.env': venv)",
   "language": "python",
   "name": "python3"
  },
  "language_info": {
   "codemirror_mode": {
    "name": "ipython",
    "version": 3
   },
   "file_extension": ".py",
   "mimetype": "text/x-python",
   "name": "python",
   "nbconvert_exporter": "python",
   "pygments_lexer": "ipython3",
   "version": "3.9.13"
  },
  "orig_nbformat": 4
 },
 "nbformat": 4,
 "nbformat_minor": 2
}
